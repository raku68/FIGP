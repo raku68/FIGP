{
 "cells": [
  {
   "cell_type": "markdown",
   "metadata": {
    "tags": []
   },
   "source": [
    "# Symbolic regression with Filter-introduced GP (FIGP).\n",
    "Date: 2022/09/01 <br>\n",
    "Authors: Takaki Katsushi, Tomoyuki Miyao\n",
    "\n",
    "\n",
    "This tutorial explains how the FIGP library is used for simple quantitative structure-property regression models. The data sets were a part of our benchmark calculation reported in the publication [Reference]() ."
   ]
  },
  {
   "cell_type": "code",
   "execution_count": 1,
   "metadata": {},
   "outputs": [],
   "source": [
    "import itertools\n",
    "import os\n",
    "import numpy as np\n",
    "import pandas as pd\n",
    "import matplotlib.pyplot as plt\n",
    "import glob\n",
    "from PIL import Image\n",
    "from sklearn.metrics import (max_error, mean_absolute_error,mean_squared_error, r2_score)\n",
    "from sklearn.preprocessing import StandardScaler\n",
    "from sklearn.model_selection import train_test_split\n",
    "from figp import Symbolic_Reg"
   ]
  },
  {
   "cell_type": "markdown",
   "metadata": {},
   "source": [
    "## Loading data set\n",
    "QED and SA_score are the prediction targets. Randomly sampled 5000 ZINC compounds forms the data set. The 34 descriptors were chemical structural descriptors calculated by [RDKit](https://www.rdkit.org/docs/index.html) modules."
   ]
  },
  {
   "cell_type": "code",
   "execution_count": 2,
   "metadata": {},
   "outputs": [
    {
     "name": "stdout",
     "output_type": "stream",
     "text": [
      "Data set shape: (5000, 39)\n"
     ]
    },
    {
     "data": {
      "text/html": [
       "<div>\n",
       "<style scoped>\n",
       "    .dataframe tbody tr th:only-of-type {\n",
       "        vertical-align: middle;\n",
       "    }\n",
       "\n",
       "    .dataframe tbody tr th {\n",
       "        vertical-align: top;\n",
       "    }\n",
       "\n",
       "    .dataframe thead th {\n",
       "        text-align: right;\n",
       "    }\n",
       "</style>\n",
       "<table border=\"1\" class=\"dataframe\">\n",
       "  <thead>\n",
       "    <tr style=\"text-align: right;\">\n",
       "      <th></th>\n",
       "      <th>EMWt</th>\n",
       "      <th>FCSP3</th>\n",
       "      <th>HAtmCount</th>\n",
       "      <th>HAtmMWt</th>\n",
       "      <th>LASA</th>\n",
       "      <th>MaxAbsESI</th>\n",
       "      <th>MaxAbsPC</th>\n",
       "      <th>MaxESI</th>\n",
       "      <th>MaxPC</th>\n",
       "      <th>MinAbsESI</th>\n",
       "      <th>...</th>\n",
       "      <th>NSHc</th>\n",
       "      <th>NSR</th>\n",
       "      <th>NVE</th>\n",
       "      <th>RCount</th>\n",
       "      <th>TPSA</th>\n",
       "      <th>logp</th>\n",
       "      <th>nonstereo_aromatic_smiles</th>\n",
       "      <th>zinc_id</th>\n",
       "      <th>QED</th>\n",
       "      <th>SA_score</th>\n",
       "    </tr>\n",
       "  </thead>\n",
       "  <tbody>\n",
       "    <tr>\n",
       "      <th>169906</th>\n",
       "      <td>352.135782</td>\n",
       "      <td>0.210526</td>\n",
       "      <td>25</td>\n",
       "      <td>332.303</td>\n",
       "      <td>151.031678</td>\n",
       "      <td>12.149769</td>\n",
       "      <td>0.325366</td>\n",
       "      <td>12.149769</td>\n",
       "      <td>0.234352</td>\n",
       "      <td>0.066213</td>\n",
       "      <td>...</td>\n",
       "      <td>0</td>\n",
       "      <td>0</td>\n",
       "      <td>128</td>\n",
       "      <td>3</td>\n",
       "      <td>59.81</td>\n",
       "      <td>3.923</td>\n",
       "      <td>Cc1ccc(cc1C)n2c(nnc2SCC(=O)Nc3ccccc3)C</td>\n",
       "      <td>ZINC000409108081</td>\n",
       "      <td>0.707093</td>\n",
       "      <td>1.924610</td>\n",
       "    </tr>\n",
       "    <tr>\n",
       "      <th>290287</th>\n",
       "      <td>239.132157</td>\n",
       "      <td>0.461538</td>\n",
       "      <td>17</td>\n",
       "      <td>221.146</td>\n",
       "      <td>100.976463</td>\n",
       "      <td>12.696282</td>\n",
       "      <td>0.480624</td>\n",
       "      <td>12.696282</td>\n",
       "      <td>0.260563</td>\n",
       "      <td>0.126227</td>\n",
       "      <td>...</td>\n",
       "      <td>0</td>\n",
       "      <td>0</td>\n",
       "      <td>94</td>\n",
       "      <td>1</td>\n",
       "      <td>38.33</td>\n",
       "      <td>2.509</td>\n",
       "      <td>CCCNC(=O)C(CC)Oc1ccc(cc1)F</td>\n",
       "      <td>ZINC000020457347</td>\n",
       "      <td>0.827960</td>\n",
       "      <td>2.245329</td>\n",
       "    </tr>\n",
       "    <tr>\n",
       "      <th>637156</th>\n",
       "      <td>282.103813</td>\n",
       "      <td>0.538462</td>\n",
       "      <td>19</td>\n",
       "      <td>264.221</td>\n",
       "      <td>116.260230</td>\n",
       "      <td>11.799428</td>\n",
       "      <td>0.464205</td>\n",
       "      <td>11.799428</td>\n",
       "      <td>0.281234</td>\n",
       "      <td>0.063655</td>\n",
       "      <td>...</td>\n",
       "      <td>1</td>\n",
       "      <td>1</td>\n",
       "      <td>104</td>\n",
       "      <td>2</td>\n",
       "      <td>62.55</td>\n",
       "      <td>2.324</td>\n",
       "      <td>Cc1ccc(o1)C(C)NC(=O)CCN2CCSC2=O</td>\n",
       "      <td>ZINC000065447550</td>\n",
       "      <td>0.899981</td>\n",
       "      <td>2.943226</td>\n",
       "    </tr>\n",
       "    <tr>\n",
       "      <th>838729</th>\n",
       "      <td>442.192628</td>\n",
       "      <td>0.458333</td>\n",
       "      <td>31</td>\n",
       "      <td>412.341</td>\n",
       "      <td>184.201680</td>\n",
       "      <td>13.059464</td>\n",
       "      <td>0.381382</td>\n",
       "      <td>13.059464</td>\n",
       "      <td>0.242588</td>\n",
       "      <td>0.060408</td>\n",
       "      <td>...</td>\n",
       "      <td>2</td>\n",
       "      <td>2</td>\n",
       "      <td>166</td>\n",
       "      <td>4</td>\n",
       "      <td>75.71</td>\n",
       "      <td>2.952</td>\n",
       "      <td>c1ccc(cc1)C2(CCOCC2)CNC(=O)C3CCCN(C3)S(=O)(=O)...</td>\n",
       "      <td>ZINC000225517187</td>\n",
       "      <td>0.746397</td>\n",
       "      <td>2.741864</td>\n",
       "    </tr>\n",
       "    <tr>\n",
       "      <th>329934</th>\n",
       "      <td>456.163140</td>\n",
       "      <td>0.304348</td>\n",
       "      <td>32</td>\n",
       "      <td>431.343</td>\n",
       "      <td>186.464060</td>\n",
       "      <td>13.409528</td>\n",
       "      <td>0.325852</td>\n",
       "      <td>13.409528</td>\n",
       "      <td>0.246254</td>\n",
       "      <td>0.182487</td>\n",
       "      <td>...</td>\n",
       "      <td>1</td>\n",
       "      <td>1</td>\n",
       "      <td>168</td>\n",
       "      <td>4</td>\n",
       "      <td>84.30</td>\n",
       "      <td>3.668</td>\n",
       "      <td>Cc1c(c(n(n1)c2ccccc2)C)S(=O)(=O)N3CCC(CC3)C(=O...</td>\n",
       "      <td>ZINC000085642623</td>\n",
       "      <td>0.635012</td>\n",
       "      <td>2.161683</td>\n",
       "    </tr>\n",
       "  </tbody>\n",
       "</table>\n",
       "<p>5 rows × 39 columns</p>\n",
       "</div>"
      ],
      "text/plain": [
       "              EMWt     FCSP3  HAtmCount  HAtmMWt        LASA  MaxAbsESI  \\\n",
       "169906  352.135782  0.210526         25  332.303  151.031678  12.149769   \n",
       "290287  239.132157  0.461538         17  221.146  100.976463  12.696282   \n",
       "637156  282.103813  0.538462         19  264.221  116.260230  11.799428   \n",
       "838729  442.192628  0.458333         31  412.341  184.201680  13.059464   \n",
       "329934  456.163140  0.304348         32  431.343  186.464060  13.409528   \n",
       "\n",
       "        MaxAbsPC     MaxESI     MaxPC  MinAbsESI  ...  NSHc  NSR  NVE  RCount  \\\n",
       "169906  0.325366  12.149769  0.234352   0.066213  ...     0    0  128       3   \n",
       "290287  0.480624  12.696282  0.260563   0.126227  ...     0    0   94       1   \n",
       "637156  0.464205  11.799428  0.281234   0.063655  ...     1    1  104       2   \n",
       "838729  0.381382  13.059464  0.242588   0.060408  ...     2    2  166       4   \n",
       "329934  0.325852  13.409528  0.246254   0.182487  ...     1    1  168       4   \n",
       "\n",
       "         TPSA   logp                          nonstereo_aromatic_smiles  \\\n",
       "169906  59.81  3.923             Cc1ccc(cc1C)n2c(nnc2SCC(=O)Nc3ccccc3)C   \n",
       "290287  38.33  2.509                         CCCNC(=O)C(CC)Oc1ccc(cc1)F   \n",
       "637156  62.55  2.324                    Cc1ccc(o1)C(C)NC(=O)CCN2CCSC2=O   \n",
       "838729  75.71  2.952  c1ccc(cc1)C2(CCOCC2)CNC(=O)C3CCCN(C3)S(=O)(=O)...   \n",
       "329934  84.30  3.668  Cc1c(c(n(n1)c2ccccc2)C)S(=O)(=O)N3CCC(CC3)C(=O...   \n",
       "\n",
       "                 zinc_id       QED  SA_score  \n",
       "169906  ZINC000409108081  0.707093  1.924610  \n",
       "290287  ZINC000020457347  0.827960  2.245329  \n",
       "637156  ZINC000065447550  0.899981  2.943226  \n",
       "838729  ZINC000225517187  0.746397  2.741864  \n",
       "329934  ZINC000085642623  0.635012  2.161683  \n",
       "\n",
       "[5 rows x 39 columns]"
      ]
     },
     "execution_count": 2,
     "metadata": {},
     "output_type": "execute_result"
    }
   ],
   "source": [
    "df = pd.read_csv('./data/000_data.tsv', sep='\\t', index_col=0)\n",
    "print(f'Data set shape: {df.shape}')\n",
    "df.head()"
   ]
  },
  {
   "cell_type": "markdown",
   "metadata": {},
   "source": [
    "## Splitting data set into training and test. \n",
    "Let X be the descriptor and y be a prediction target: QED."
   ]
  },
  {
   "cell_type": "code",
   "execution_count": 3,
   "metadata": {},
   "outputs": [
    {
     "name": "stdout",
     "output_type": "stream",
     "text": [
      "X train size: (100, 35), X test size: 171500\n"
     ]
    }
   ],
   "source": [
    "X = df.loc[:, 'EMWt':'logp']\n",
    "y = df.loc[:, 'QED']\n",
    "X_train, X_test, y_train, y_test = train_test_split(X, y, train_size=100, random_state=0)\n",
    "\n",
    "print(f'X train size: {X_train.shape}, X test size: {X_test.size}')"
   ]
  },
  {
   "cell_type": "markdown",
   "metadata": {},
   "source": [
    "## Parameters for symbolic regression\n",
    "\n",
    "population_size (int, optional): [description]. Defaults to 1000.  \n",
    "The number of formulas to search per generation.  \n",
    "\n",
    "generations (int, optional): [description]. Defaults to 200.  \n",
    "The number of generations to repeat.  \n",
    "\n",
    "tournament_size (int, optional): [description]. Defaults to 5.  \n",
    "The number of candidates selected from the population. The best is selected from among them.  \n",
    "\n",
    "num_elite_select (int, optional): [description]. Defaults to 1.  \n",
    "The number of formulas that are always saved based on precision.  \n",
    "\n",
    "max_depth (int, optional): [description]. Defaults to 4.  \n",
    "Maximum depth of an individual. The higher the value, the higher the accuracy, but the calculation may take longer.  \n",
    "\n",
    "function_set (list, optional): [description]. Defaults to ['add', 'sub', 'mul', 'div', 'ln', 'log', 'sqrt'].  \n",
    "Operator to use in formulas.  \n",
    "\n",
    "metric (str, optional): [description]. Defaults to 'mae'.  \n",
    "Evaluation index.\n",
    "\n",
    "p_crossover (float, optional): [description]. Defaults to 0.7.  \n",
    "Probability of crossover. Crossover is an operation that exchanges parts of mathematical expressions.  \n",
    "\n",
    "p_mutation (float, optional): [description]. Defaults to 0.2.  \n",
    "Mutation Establishment. Mutation replaces part of the formula with a randomly generated formula.  \n",
    "\n",
    "random_state (int, optional): [description]. Defaults to 0.  \n",
    "\n",
    "const_range (tuple, optional): [description]. Defaults to (0, 1).  \n",
    "A range of randomly generated constants. Optimized with this value as the initial value.  \n",
    "\n",
    "x_domain ([type], optional): [description]. Defaults to None.  \n",
    "The expected X range.  \n",
    "\n",
    "y_domain ([type], optional): [description]. Defaults to None.  \n",
    "The expected y range.  \n",
    "\n",
    "results_dir (str, optional): [description]. Defaults to './results'.  \n",
    "Specify where to save the results.  \n",
    "Save with \"Symbolic_Reg.save_all()\"."
   ]
  },
  {
   "cell_type": "markdown",
   "metadata": {},
   "source": [
    "## FGP model construction (three filters are on)\n",
    "```\n",
    "   function_filter = True\n",
    "   variable_filter = True\n",
    "   xydomain_filter = True\n",
    "``` \n",
    "The outcomes of SR is stored in the folder name specified by `result_dir`.\n"
   ]
  },
  {
   "cell_type": "code",
   "execution_count": 4,
   "metadata": {},
   "outputs": [
    {
     "name": "stdout",
     "output_type": "stream",
     "text": [
      "  Gen  ! -- score-min -- ! -- score-med -- ! -- score-max -- ! -- score-std -- ! -- unique_rate -- ! -- nevals -- \n",
      "-------!-----------------!-----------------!-----------------!-----------------!-------------------!--------------\n",
      "    0  !          0.17   !          0.67   !          0.68   !          0.16   !            1.00   !   2.00e+02   \n"
     ]
    },
    {
     "ename": "TypeError",
     "evalue": "cannot unpack non-iterable int object",
     "output_type": "error",
     "traceback": [
      "\u001b[1;31m---------------------------------------------------------------------------\u001b[0m",
      "\u001b[1;31mTypeError\u001b[0m                                 Traceback (most recent call last)",
      "Cell \u001b[1;32mIn [4], line 24\u001b[0m\n\u001b[0;32m      3\u001b[0m est \u001b[39m=\u001b[39m Symbolic_Reg( population_size\u001b[39m=\u001b[39m\u001b[39m200\u001b[39m,\n\u001b[0;32m      4\u001b[0m                     generations\u001b[39m=\u001b[39m\u001b[39m100\u001b[39m,\n\u001b[0;32m      5\u001b[0m                     tournament_size\u001b[39m=\u001b[39m\u001b[39m5\u001b[39m,\n\u001b[1;32m   (...)\u001b[0m\n\u001b[0;32m     20\u001b[0m                     domain_equal    \u001b[39m=\u001b[39m (\u001b[39mTrue\u001b[39;00m, \u001b[39mTrue\u001b[39;00m),\n\u001b[0;32m     21\u001b[0m                     results_dir\u001b[39m=\u001b[39mresult_dir)\n\u001b[0;32m     23\u001b[0m \u001b[39m# traininig\u001b[39;00m\n\u001b[1;32m---> 24\u001b[0m est\u001b[39m.\u001b[39;49mfit(X_train, y_train)\n\u001b[0;32m     26\u001b[0m \u001b[39m# save the training results\u001b[39;00m\n\u001b[0;32m     27\u001b[0m est\u001b[39m.\u001b[39msave_all()\n",
      "File \u001b[1;32mc:\\Users\\takak\\miniconda3\\envs\\figp_env\\lib\\site-packages\\figp-0.1.0-py3.9.egg\\figp\\deap_based_FGP_NLS.py:300\u001b[0m, in \u001b[0;36mSymbolic_Reg.fit\u001b[1;34m(self, x, y)\u001b[0m\n\u001b[0;32m    296\u001b[0m \u001b[39mself\u001b[39m\u001b[39m.\u001b[39mtext_log_\u001b[39m.\u001b[39mprint([\u001b[39mf\u001b[39m\u001b[39m'\u001b[39m\u001b[39m \u001b[39m\u001b[39m{\u001b[39;00m\u001b[39mself\u001b[39m\u001b[39m.\u001b[39m_n_ind_gen_successes\u001b[39m}\u001b[39;00m\u001b[39m [ ind ] / \u001b[39m\u001b[39m{\u001b[39;00m\u001b[39mself\u001b[39m\u001b[39m.\u001b[39m_n_ind_generations\u001b[39m}\u001b[39;00m\u001b[39m [ trials ] (time : \u001b[39m\u001b[39m{\u001b[39;00m(time\u001b[39m.\u001b[39mtime() \u001b[39m-\u001b[39m \u001b[39mself\u001b[39m\u001b[39m.\u001b[39m_time0)\u001b[39m/\u001b[39m\u001b[39m60\u001b[39m\u001b[39m:\u001b[39;00m\u001b[39m.3f\u001b[39m\u001b[39m}\u001b[39;00m\u001b[39m min)\u001b[39m\u001b[39m\\n\u001b[39;00m\u001b[39m'\u001b[39m])\n\u001b[0;32m    298\u001b[0m \u001b[39mself\u001b[39m\u001b[39m.\u001b[39mhof \u001b[39m=\u001b[39m tools\u001b[39m.\u001b[39mHallOfFame(\u001b[39mself\u001b[39m\u001b[39m.\u001b[39mnum_elite_select)\n\u001b[1;32m--> 300\u001b[0m pop, log \u001b[39m=\u001b[39m FGP_NLS_algorithm(population       \u001b[39m=\u001b[39;49m pop,\n\u001b[0;32m    301\u001b[0m                     toolbox          \u001b[39m=\u001b[39;49m \u001b[39mself\u001b[39;49m\u001b[39m.\u001b[39;49mtoolbox_, \n\u001b[0;32m    302\u001b[0m                     cxpb             \u001b[39m=\u001b[39;49m \u001b[39mself\u001b[39;49m\u001b[39m.\u001b[39;49mp_crossover,\n\u001b[0;32m    303\u001b[0m                     mutpb            \u001b[39m=\u001b[39;49m \u001b[39mself\u001b[39;49m\u001b[39m.\u001b[39;49mp_mutation,\n\u001b[0;32m    304\u001b[0m                     ngen             \u001b[39m=\u001b[39;49m \u001b[39mself\u001b[39;49m\u001b[39m.\u001b[39;49mgenerations,\n\u001b[0;32m    305\u001b[0m                     halloffame       \u001b[39m=\u001b[39;49m \u001b[39mself\u001b[39;49m\u001b[39m.\u001b[39;49mhof,\n\u001b[0;32m    306\u001b[0m                     num_elite_select \u001b[39m=\u001b[39;49m \u001b[39mself\u001b[39;49m\u001b[39m.\u001b[39;49mnum_elite_select,\n\u001b[0;32m    307\u001b[0m                     var_max_trial    \u001b[39m=\u001b[39;49m \u001b[39mself\u001b[39;49m\u001b[39m.\u001b[39;49mvar_max_trial, \n\u001b[0;32m    308\u001b[0m                     check_func       \u001b[39m=\u001b[39;49m \u001b[39mself\u001b[39;49m\u001b[39m.\u001b[39;49m_surveyed_individuals_,\n\u001b[0;32m    309\u001b[0m                     text_log         \u001b[39m=\u001b[39;49m \u001b[39mself\u001b[39;49m\u001b[39m.\u001b[39;49mtext_log_,\n\u001b[0;32m    310\u001b[0m                     save_dir         \u001b[39m=\u001b[39;49m \u001b[39mself\u001b[39;49m\u001b[39m.\u001b[39;49mresults_dir,\n\u001b[0;32m    311\u001b[0m                     func_name        \u001b[39m=\u001b[39;49m \u001b[39mself\u001b[39;49m\u001b[39m.\u001b[39;49mfunction_set)\n\u001b[0;32m    313\u001b[0m \u001b[39mself\u001b[39m\u001b[39m.\u001b[39mexpr \u001b[39m=\u001b[39m tools\u001b[39m.\u001b[39mselBest(pop, \u001b[39m1\u001b[39m)[\u001b[39m0\u001b[39m]\n\u001b[0;32m    314\u001b[0m \u001b[39mself\u001b[39m\u001b[39m.\u001b[39mtree \u001b[39m=\u001b[39m gp\u001b[39m.\u001b[39mPrimitiveTree(\u001b[39mself\u001b[39m\u001b[39m.\u001b[39mexpr)\n",
      "File \u001b[1;32mc:\\Users\\takak\\miniconda3\\envs\\figp_env\\lib\\site-packages\\figp-0.1.0-py3.9.egg\\figp\\deap_based_FGP_algorithms.py:137\u001b[0m, in \u001b[0;36mFGP_NLS_algorithm\u001b[1;34m(population, toolbox, cxpb, mutpb, ngen, halloffame, num_elite_select, var_max_trial, check_func, text_log, save_dir, func_name, n_expr2save)\u001b[0m\n\u001b[0;32m    134\u001b[0m     ind\u001b[39m.\u001b[39mfitness\u001b[39m.\u001b[39mvalues \u001b[39m=\u001b[39m fit\n\u001b[0;32m    136\u001b[0m \u001b[39m# [_now_gen_log[i].extend([f'After const opt : {str(offspring[i])}\\t\\t{offspring[i].fitness.values}\\n']) for i in range(3)]\u001b[39;00m\n\u001b[1;32m--> 137\u001b[0m [_now_gen_log[_en]\u001b[39m.\u001b[39mextend([\u001b[39mf\u001b[39m\u001b[39m'\u001b[39m\u001b[39mAfter const opt : \u001b[39m\u001b[39m{\u001b[39;00m\u001b[39mstr\u001b[39m(_ind)\u001b[39m}\u001b[39;00m\u001b[39m\\t\u001b[39;00m\u001b[39m\\t\u001b[39;00m\u001b[39m{\u001b[39;00m_ind\u001b[39m.\u001b[39mfitness\u001b[39m.\u001b[39mvalues\u001b[39m}\u001b[39;00m\u001b[39m'\u001b[39m]) \u001b[39mfor\u001b[39;00m _en, (_ind, _) \u001b[39min\u001b[39;00m \u001b[39mzip\u001b[39m(offspring, \u001b[39mrange\u001b[39m(n_expr2save))]\n\u001b[0;32m    140\u001b[0m _now_gen_log \u001b[39m=\u001b[39m \u001b[39mlist\u001b[39m(itertools\u001b[39m.\u001b[39mchain\u001b[39m.\u001b[39mfrom_iterable(_now_gen_log))\n\u001b[0;32m    141\u001b[0m text_log\u001b[39m.\u001b[39mprint(_now_gen_log)\n",
      "File \u001b[1;32mc:\\Users\\takak\\miniconda3\\envs\\figp_env\\lib\\site-packages\\figp-0.1.0-py3.9.egg\\figp\\deap_based_FGP_algorithms.py:137\u001b[0m, in \u001b[0;36m<listcomp>\u001b[1;34m(.0)\u001b[0m\n\u001b[0;32m    134\u001b[0m     ind\u001b[39m.\u001b[39mfitness\u001b[39m.\u001b[39mvalues \u001b[39m=\u001b[39m fit\n\u001b[0;32m    136\u001b[0m \u001b[39m# [_now_gen_log[i].extend([f'After const opt : {str(offspring[i])}\\t\\t{offspring[i].fitness.values}\\n']) for i in range(3)]\u001b[39;00m\n\u001b[1;32m--> 137\u001b[0m [_now_gen_log[_en]\u001b[39m.\u001b[39mextend([\u001b[39mf\u001b[39m\u001b[39m'\u001b[39m\u001b[39mAfter const opt : \u001b[39m\u001b[39m{\u001b[39;00m\u001b[39mstr\u001b[39m(_ind)\u001b[39m}\u001b[39;00m\u001b[39m\\t\u001b[39;00m\u001b[39m\\t\u001b[39;00m\u001b[39m{\u001b[39;00m_ind\u001b[39m.\u001b[39mfitness\u001b[39m.\u001b[39mvalues\u001b[39m}\u001b[39;00m\u001b[39m'\u001b[39m]) \u001b[39mfor\u001b[39;00m _en, (_ind, _) \u001b[39min\u001b[39;00m \u001b[39mzip\u001b[39m(offspring, \u001b[39mrange\u001b[39m(n_expr2save))]\n\u001b[0;32m    140\u001b[0m _now_gen_log \u001b[39m=\u001b[39m \u001b[39mlist\u001b[39m(itertools\u001b[39m.\u001b[39mchain\u001b[39m.\u001b[39mfrom_iterable(_now_gen_log))\n\u001b[0;32m    141\u001b[0m text_log\u001b[39m.\u001b[39mprint(_now_gen_log)\n",
      "\u001b[1;31mTypeError\u001b[0m: cannot unpack non-iterable int object"
     ]
    }
   ],
   "source": [
    "result_dir = './result2' \n",
    "\n",
    "est = Symbolic_Reg( population_size=200,\n",
    "                    generations=100,\n",
    "                    tournament_size=5,\n",
    "                    num_elite_select = 1,\n",
    "                    max_depth=4,\n",
    "                    function_set=('add', 'sub', 'mul', 'div', 'sqrt', 'square', 'cube', 'ln', 'exp'),\n",
    "                    metric='rmse', \n",
    "                    p_crossover=0.7, \n",
    "                    p_mutation=0.2, \n",
    "                    random_state=0,\n",
    "                    x_domain=X,\n",
    "                    y_domain=(0, 1),\n",
    "                    var_max_trial=5000,\n",
    "                    function_filter = True, \n",
    "                    variable_filter = True, \n",
    "                    xydomain_filter = True,\n",
    "                    constonly_filter= True,\n",
    "                    domain_equal    = (True, True),\n",
    "                    results_dir=result_dir)\n",
    "\n",
    "# traininig\n",
    "est.fit(X_train, y_train)\n",
    "\n",
    "# save the training results\n",
    "est.save_all()"
   ]
  },
  {
   "cell_type": "markdown",
   "metadata": {},
   "source": [
    "## Prediction of the QED values for training and test data sets"
   ]
  },
  {
   "cell_type": "code",
   "execution_count": null,
   "metadata": {},
   "outputs": [],
   "source": [
    "y_train_pred = est.predict(X_train)\n",
    "y_test_pred  = est.predict(X_test)\n",
    "\n",
    "# Evaluation\n",
    "r2_train = r2_score(y_true=y_train, y_pred=y_train_pred)\n",
    "r2_test  = r2_score(y_true=y_test,  y_pred=y_test_pred)\n",
    "\n",
    "# YY plots \n",
    "fig, ax = plt.subplots(figsize=(7, 7))\n",
    "ax.set_xlabel('true'); ax.set_ylabel('predict')\n",
    "ax.plot([0, 1], [0, 1], c='k')\n",
    "ax.scatter(y_train, y_train_pred,  label=f'$Training\\ R^2 = {r2_train:.2f}$')\n",
    "ax.scatter(y_test, y_test_pred,    label=f'$Test\\ R^2 = {r2_test:.2f}$', zorder=-1)\n",
    "ax.legend(bbox_to_anchor=(1.02, 1), loc='upper left', borderaxespad=0.)"
   ]
  },
  {
   "cell_type": "markdown",
   "metadata": {},
   "source": [
    "## Looking at output files \n",
    "FGP models were saved in the directory specified in the `results_dir` argument when creating`Symbolic_Reg` instance.  \n",
    "\n",
    "1. Files with the prefix of **001_GP_log** store RMSE values (fitness scores) during generation.  \n",
    "2. Files with the prefix of **001_GP_node** show node profiles during generation.  \n",
    "3. Files with the prefix of **002_best** contain the information of best formula."
   ]
  },
  {
   "cell_type": "code",
   "execution_count": null,
   "metadata": {},
   "outputs": [],
   "source": [
    "result_files = glob.glob(f'{result_dir}/*')\n",
    "\n",
    "print('Result file contents')\n",
    "result_files"
   ]
  },
  {
   "cell_type": "markdown",
   "metadata": {},
   "source": [
    "### Showing RMSE values during generation.\n",
    "Now, we can see that the how fitness values (RMSE) changed during evolution."
   ]
  },
  {
   "cell_type": "code",
   "execution_count": null,
   "metadata": {},
   "outputs": [],
   "source": [
    "Image.open(f'{result_dir}/001_GP_log_min_pl.png').convert('RGB')"
   ]
  },
  {
   "cell_type": "markdown",
   "metadata": {},
   "source": [
    "### Showing operator profiles during generation.\n",
    "The below lines show the proportion of indivisuals containing specific operations."
   ]
  },
  {
   "cell_type": "code",
   "execution_count": null,
   "metadata": {},
   "outputs": [],
   "source": [
    "Image.open(f'{result_dir}/001_GP_node_analysis_func_select_pl.png').convert('RGB')"
   ]
  },
  {
   "cell_type": "markdown",
   "metadata": {},
   "source": [
    "### Showing descriptor profiles during generation.\n",
    "The below lines show the proportion of indivisuals containing specific descriptors."
   ]
  },
  {
   "cell_type": "code",
   "execution_count": null,
   "metadata": {},
   "outputs": [],
   "source": [
    "Image.open(f'{result_dir}/001_GP_node_analysis_X_select_pl.png').convert('RGB')"
   ]
  },
  {
   "cell_type": "markdown",
   "metadata": {},
   "source": [
    "### Showing best expression.\n",
    "The selected formula is saved as an image.  \n",
    "It may be different from the best stored formula for the last generation of \"000_GP_log_txt.txt\", but it has been simplified by the Sympy library."
   ]
  },
  {
   "cell_type": "code",
   "execution_count": null,
   "metadata": {},
   "outputs": [],
   "source": [
    "Image.open(f'{result_dir}/002_best_model_expr.png').convert('RGB')"
   ]
  },
  {
   "cell_type": "markdown",
   "metadata": {},
   "source": [
    "### Log file contents\n",
    "`After selection` is the formula selected from the previous generation.   \n",
    "`After evolution` is a mathematical formula evolved by crossing and so on.   \n",
    "`After const opt` is a constant optimized formula.  \n",
    "\n",
    "example  \n",
    "'After selection : formula  (score)"
   ]
  },
  {
   "cell_type": "code",
   "execution_count": null,
   "metadata": {},
   "outputs": [],
   "source": [
    "f = open(f'{result_dir}/000_GP_log_txt.txt')\n",
    "lines = f.readlines()[:50]\n",
    "f.close()\n",
    "lines"
   ]
  }
 ],
 "metadata": {
  "kernelspec": {
   "display_name": "Python 3.9.13 ('figp_env')",
   "language": "python",
   "name": "python3"
  },
  "language_info": {
   "codemirror_mode": {
    "name": "ipython",
    "version": 3
   },
   "file_extension": ".py",
   "mimetype": "text/x-python",
   "name": "python",
   "nbconvert_exporter": "python",
   "pygments_lexer": "ipython3",
   "version": "3.9.13"
  },
  "vscode": {
   "interpreter": {
    "hash": "951620d433a3f3c06caa4519a7e4f8a3ff6d8e418c2aa804fc7e6b784bd5a471"
   }
  }
 },
 "nbformat": 4,
 "nbformat_minor": 4
}
