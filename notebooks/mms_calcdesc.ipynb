{
 "cells": [
  {
   "cell_type": "code",
   "execution_count": null,
   "metadata": {},
   "outputs": [],
   "source": [
    "import pandas as pd\n",
    "import glob\n",
    "from sklearn.metrics import (max_error, mean_absolute_error,mean_squared_error, r2_score)\n",
    "from sklearn.model_selection import train_test_split\n",
    "import matplotlib.pyplot as plt\n",
    "# from PIL import Image\n",
    "from IPython.display import Image\n",
    "\n",
    "from figp import Symbolic_Reg\n",
    "\n",
    "MMS_COLUMNS = ['chembl-id', 'pot.(log,Ki)', 'pot.(nMol,Ki)', 'aromatic_smiles', 'non_stereo_aromatic_smieles',\n",
    "               'all-chembl-ids', 'no.-meas.', 'pref_name', 'accession', 'natoms',\n",
    "               'core', 'sub', 'sub_carbon_replacement', 'arorings', 'a_acc',\n",
    "               'a_don', 'a_heavy', 'logP(o/w)', 'RBC', 'rings',\n",
    "               'TPSA', 'vdw_vol', 'Weight']\n",
    "MMS_COLRENAME = {\"arorings\": \"arings\", \"a_acc\": \"acc\", \"a_don\": \"don\", \"logP(o/w)\": \"logp\", \"RBC\": \"rbc\",\n",
    "                 \"TPSA\": \"tpsa\", \"Weight\": \"mw\", \"pot.(log,Ki)\":\"pot\"}\n",
    "MMS_FEATLIST = [\"arings\", \"acc\", \"don\", \"logp\", \"rbc\", # Rotatable Bond Counts\n",
    "                \"tpsa\", \"mw\"]\n",
    "MMS_PROPERTY = \"pot\"\n"
   ]
  },
  {
   "cell_type": "code",
   "execution_count": null,
   "metadata": {},
   "outputs": [],
   "source": [
    "files = glob.glob(\"data/MMS/*.tsv\")\n",
    "print(\"nfiles:\", len(files))\n",
    "\n",
    "fno = 0\n",
    "file = files[fno]\n",
    "\n",
    "df = pd.read_table(file, index_col=0)\n",
    "df = df.rename(columns=MMS_COLRENAME)\n",
    "print(df.columns)\n",
    "print(file, df[\"core\"].iloc[0])\n",
    "ndata = len(df.index)\n",
    "ntrain = int(0.8*ndata)\n",
    "print(f\"ndata: {ndata}, ntrain: {ntrain}\")\n",
    "\n",
    "X = df.loc[:, MMS_FEATLIST]\n",
    "y = df.loc[:, MMS_PROPERTY]\n",
    "X_train, X_test, y_train, y_test = train_test_split(X, y, train_size=ntrain, random_state=0)\n",
    "print(X_train.shape, y_train.shape, X_test.shape, y_test.shape)\n",
    "ydomain = y.min(), y.max()\n",
    "\n",
    "result_dir = f'./result_MMS{fno:02}_FIGP-FVD'\n",
    "print(\"output_dir\", result_dir)\n",
    "\n",
    "res = dict()\n",
    "for random_state in range(5):\n",
    "    print(\"RANDOM STATE:\", random_state)\n",
    "    \n",
    "    est = Symbolic_Reg( population_size=200,\n",
    "                        generations=100,\n",
    "                        tournament_size=5,\n",
    "                        num_elite_select = 1,\n",
    "                        max_depth=4,\n",
    "                        function_set=('add', 'sub', 'mul', 'div', 'sqrt', 'square', 'cube', 'ln', 'exp'),\n",
    "                        metric='rmse', \n",
    "                        p_crossover=0.7, \n",
    "                        p_mutation=0.2, \n",
    "                        random_state=random_state,\n",
    "                        x_domain=X,\n",
    "                        y_domain=ydomain,\n",
    "                        var_max_trial=5000,\n",
    "                        function_filter = True, \n",
    "                        variable_filter = True, \n",
    "                        xydomain_filter = True,\n",
    "                        constonly_filter= True,\n",
    "                        domain_equal    = (True, True),\n",
    "                        results_dir=result_dir)\n",
    "\n",
    "    # traininig\n",
    "    est.fit(X_train, y_train)\n",
    "    y_train_pred = est.predict(X_train)\n",
    "    r2_train = r2_score(y_true=y_train, y_pred=y_train_pred)\n",
    "    res[random_state] = (r2_train, est)\n",
    "    \n",
    "# save the training results\n",
    "print(res.values())\n",
    "sorted(res.values(), reverse=True)[0][1].save_all()\n"
   ]
  },
  {
   "cell_type": "code",
   "execution_count": null,
   "metadata": {},
   "outputs": [],
   "source": [
    "sorted(res.values(), reverse=True)[0][0]"
   ]
  },
  {
   "cell_type": "code",
   "execution_count": null,
   "metadata": {},
   "outputs": [],
   "source": [
    "y_train_pred = est.predict(X_train)\n",
    "y_test_pred  = est.predict(X_test)\n",
    "\n",
    "# Evaluation\n",
    "r2_train = r2_score(y_true=y_train, y_pred=y_train_pred)\n",
    "r2_test  = r2_score(y_true=y_test,  y_pred=y_test_pred)\n",
    "\n",
    "# YY plots \n",
    "fig, ax = plt.subplots(figsize=(7, 7))\n",
    "ax.set_xlabel('true'); ax.set_ylabel('predict')\n",
    "ax.plot([y.min(), y.max()], [y.min(), y.max()], c='k')\n",
    "ax.scatter(y_train, y_train_pred,  label=f'$Training\\ R^2 = {r2_train:.2f}$')\n",
    "ax.scatter(y_test, y_test_pred,    label=f'$Test\\ R^2 = {r2_test:.2f}$', zorder=-1)\n",
    "ax.legend(bbox_to_anchor=(1.02, 1), loc='upper left', borderaxespad=0.)"
   ]
  },
  {
   "cell_type": "code",
   "execution_count": null,
   "metadata": {},
   "outputs": [],
   "source": [
    "Image(f'{result_dir}/001_GP_log_min_pl.png')"
   ]
  },
  {
   "cell_type": "code",
   "execution_count": null,
   "metadata": {},
   "outputs": [],
   "source": []
  },
  {
   "cell_type": "code",
   "execution_count": null,
   "metadata": {},
   "outputs": [],
   "source": []
  }
 ],
 "metadata": {
  "kernelspec": {
   "display_name": "Python 3.9.13 64-bit ('figp_env')",
   "language": "python",
   "name": "python3"
  },
  "language_info": {
   "codemirror_mode": {
    "name": "ipython",
    "version": 3
   },
   "file_extension": ".py",
   "mimetype": "text/x-python",
   "name": "python",
   "nbconvert_exporter": "python",
   "pygments_lexer": "ipython3",
   "version": "3.9.13"
  },
  "orig_nbformat": 4,
  "vscode": {
   "interpreter": {
    "hash": "6ed7d6bfd7ee8c6378aa7198d9dfcf569f487047bfaad9b07521b8c18e499b81"
   }
  }
 },
 "nbformat": 4,
 "nbformat_minor": 2
}
