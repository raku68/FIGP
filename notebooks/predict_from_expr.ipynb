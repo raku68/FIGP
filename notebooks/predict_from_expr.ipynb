{
 "cells": [
  {
   "cell_type": "code",
   "execution_count": 10,
   "metadata": {},
   "outputs": [
    {
     "name": "stdout",
     "output_type": "stream",
     "text": [
      "{'expr': 'add(mul(add(square(logp), sub(tpsa, 292.0763894916694)), -0.0316324944192652), exp(add(vdw_vol, add(acc, -164.49964637487622))))', 'use_X': ['logp', 'tpsa', 'vdw_vol', 'acc']}\n",
      "     arings  acc  don  a_heavy   logp  rbc  rings  tpsa    vdw_vol          mw\n",
      "392       0    1    0        7  1.141    0      1  3.24  126.11688   99.177002\n",
      "364       0    1    0        9  1.921    1      1  3.24  176.58276  192.099990\n",
      "[[9.09543374e+00]\n",
      " [4.80764290e+05]]\n",
      "480764.2897370135 1\n"
     ]
    },
    {
     "data": {
      "image/png": "[encoded data removed]",
      "text/plain": [
       "<Figure size 640x480 with 1 Axes>"
      ]
     },
     "metadata": {},
     "output_type": "display_data"
    }
   ],
   "source": [
    "import pandas as pd\n",
    "import numpy as np\n",
    "from figp import LoadExpr\n",
    "import json\n",
    "from sklearn.model_selection import train_test_split\n",
    "\n",
    "MMS_COLUMNS = ['chembl-id', 'pot.(log,Ki)', 'pot.(nMol,Ki)', 'aromatic_smiles', 'non_stereo_aromatic_smieles',\n",
    "               'all-chembl-ids', 'no.-meas.', 'pref_name', 'accession', 'natoms',\n",
    "               'core', 'sub', 'sub_carbon_replacement', 'arorings', 'a_acc',\n",
    "               'a_don', 'a_heavy', 'logP(o/w)', 'RBC', 'rings',\n",
    "               'TPSA', 'vdw_vol', 'Weight']\n",
    "MMS_COLRENAME = {\"arorings\": \"arings\", \"a_acc\": \"acc\", \"a_don\": \"don\", \"logP(o/w)\": \"logp\", \"RBC\": \"rbc\",\n",
    "                 \"TPSA\": \"tpsa\", \"Weight\": \"mw\", \"pot.(log,Ki)\":\"pot\"}\n",
    "                 # RBC: Rotatable Bond Counts\n",
    "MMS_FEATLIST = {'10': [\"arings\", \"acc\", \"don\", \"a_heavy\", \"logp\", \"rbc\", \"rings\", \"tpsa\", \"vdw_vol\", \"mw\"],\n",
    "                '7' : [\"arings\", \"acc\", \"don\", \"logp\", \"rbc\", \"tpsa\", \"mw\"],\n",
    "                '4' : [\"logp\", \"rbc\", \"tpsa\", \"mw\"],}\n",
    "MMS_PROPERTY = \"pot\"\n",
    "mms_featlist = MMS_FEATLIST['10']\n",
    "d_rstate = 1\n",
    "\n",
    "with open('result3/000_best_expr.json', 'rb') as f:\n",
    "    best_expr = json.load(f)\n",
    "\n",
    "print(best_expr)\n",
    "df = pd.read_table(\"data/MMS/uniq/tid-10280-actives_90mms_sub-moedescriptors.tsv\", index_col=0)\n",
    "df = df.rename(columns=MMS_COLRENAME)\n",
    "ndata = len(df.index)\n",
    "\n",
    "X = df.loc[:, mms_featlist]\n",
    "y = df.loc[:, MMS_PROPERTY]\n",
    "\n",
    "rtrain=0.5\n",
    "ntrain = int(rtrain*ndata)\n",
    "X_train, X_test, y_train, y_test = train_test_split(X, y, train_size=ntrain, random_state=d_rstate)\n",
    "\n",
    "expr = LoadExpr(best_expr['expr'])\n",
    "y_train_pred_load = expr.predict(X_train)\n",
    "y_test_pred_load  = expr.predict(X_test)\n",
    "\n",
    "# print(y_train_pred_load)\n",
    "print(X_test.iloc[0:2, :])\n",
    "print(y_test_pred_load[0:2])\n",
    "\n",
    "import matplotlib.pyplot as plt\n",
    "\n",
    "plt.scatter(y_test, y_test_pred_load)\n",
    "print(y_test_pred_load.max(), y_test_pred_load.argmax())\n",
    "# sum(np.array(y_train_pred).reshape(-1, 1) - y_train_pred_load), sum(np.array(y_test_pred).reshape(-1, 1) - y_test_pred_load)\n",
    "\n",
    "\n",
    "# model = LoadExpr(\"-0.0316324944192652 \\cdot logp^2 - 0.0316324944192652 \\cdot tpsa + 3.62002278745547e-72 \\cdot exp(acc + vdw_vol) + 9.23910476059436\")\n",
    "# model.predict()"
   ]
  },
  {
   "cell_type": "code",
   "execution_count": 12,
   "metadata": {},
   "outputs": [
    {
     "data": {
      "text/plain": [
       "5.819301317646213e-17"
      ]
     },
     "execution_count": 12,
     "metadata": {},
     "output_type": "execute_result"
    }
   ],
   "source": [
    "import math\n",
    "\n",
    "math.exp(126.11688+(1-164.49964637487622))"
   ]
  },
  {
   "cell_type": "code",
   "execution_count": null,
   "metadata": {},
   "outputs": [],
   "source": [
    "\"\"\"view png files\"\"\"\n"
   ]
  }
 ],
 "metadata": {
  "kernelspec": {
   "display_name": "figp_env2",
   "language": "python",
   "name": "python3"
  },
  "language_info": {
   "codemirror_mode": {
    "name": "ipython",
    "version": 3
   },
   "file_extension": ".py",
   "mimetype": "text/x-python",
   "name": "python",
   "nbconvert_exporter": "python",
   "pygments_lexer": "ipython3",
   "version": "3.9.16"
  },
  "orig_nbformat": 4
 },
 "nbformat": 4,
 "nbformat_minor": 2
}
